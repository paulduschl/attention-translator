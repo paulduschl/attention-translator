{
 "cells": [
  {
   "cell_type": "markdown",
   "id": "25f64614",
   "metadata": {},
   "source": [
    "# Data Exploration\n",
    "---\n",
    "## Introduction\n",
    "\n",
    "I will use the OPUS Corpora with 51,467 pairs of a german and english sentence."
   ]
  },
  {
   "cell_type": "code",
   "execution_count": null,
   "id": "57f26b57",
   "metadata": {},
   "outputs": [
    {
     "name": "stderr",
     "output_type": "stream",
     "text": [
      "c:\\Users\\pauld\\anaconda3\\envs\\aiayn_env\\Lib\\site-packages\\tqdm\\auto.py:21: TqdmWarning: IProgress not found. Please update jupyter and ipywidgets. See https://ipywidgets.readthedocs.io/en/stable/user_install.html\n",
      "  from .autonotebook import tqdm as notebook_tqdm\n"
     ]
    }
   ],
   "source": [
    "from datasets import load_dataset\n",
    "dataset = load_dataset(\"opus_books\", \"de-en\")"
   ]
  },
  {
   "cell_type": "markdown",
   "id": "180421b7",
   "metadata": {},
   "source": [
    "## Structure\n",
    "The data has the following structure:\n",
    "- dataset\n",
    "    - 'train'\n",
    "        - id (int from 0 to 51,467)\n",
    "            - 'translation'\n",
    "                - 'de': german sentence\n",
    "                - 'en': english sentence"
   ]
  },
  {
   "cell_type": "code",
   "execution_count": 31,
   "id": "286a748a",
   "metadata": {},
   "outputs": [
    {
     "name": "stdout",
     "output_type": "stream",
     "text": [
      "Es war ganz unmöglich, an diesem Tage einen Spaziergang zu machen.\n",
      "There was no possibility of taking a walk that day.\n"
     ]
    }
   ],
   "source": [
    "print(dataset['train'][4]['translation']['de'])\n",
    "print(dataset['train'][4]['translation']['en'])"
   ]
  },
  {
   "cell_type": "markdown",
   "id": "2f5d8091",
   "metadata": {},
   "source": [
    "## Proprocessing\n",
    "\n",
    "In order to not waste any vocabulary space, I do the following:\n",
    "- Normalizing punctuation (e.g. '…' -> '...') \n",
    "- delete pairs, where at least one sentence is whitespace\n",
    "- "
   ]
  }
 ],
 "metadata": {
  "kernelspec": {
   "display_name": "aiayn_env",
   "language": "python",
   "name": "python3"
  },
  "language_info": {
   "codemirror_mode": {
    "name": "ipython",
    "version": 3
   },
   "file_extension": ".py",
   "mimetype": "text/x-python",
   "name": "python",
   "nbconvert_exporter": "python",
   "pygments_lexer": "ipython3",
   "version": "3.12.11"
  }
 },
 "nbformat": 4,
 "nbformat_minor": 5
}
