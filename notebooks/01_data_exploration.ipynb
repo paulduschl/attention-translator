{
 "cells": [
  {
   "cell_type": "markdown",
   "id": "25f64614",
   "metadata": {},
   "source": [
    "# Data Exploration\n",
    "---\n",
    "## Introduction\n",
    "\n",
    "I will use the OPUS Corpora with 51,467 pairs of a german and english sentence."
   ]
  },
  {
   "cell_type": "code",
   "execution_count": 2,
   "id": "57f26b57",
   "metadata": {},
   "outputs": [],
   "source": [
    "from datasets import load_dataset\n",
    "dataset = load_dataset(\"opus_books\", \"de-en\")"
   ]
  },
  {
   "cell_type": "markdown",
   "id": "180421b7",
   "metadata": {},
   "source": [
    "## Structure\n",
    "The data has the following structure:\n",
    "- dataset\n",
    "    - 'train'\n",
    "        - id (int from 0 to 51,467)\n",
    "            - 'translation'\n",
    "                - 'de' (str) : german sentence\n",
    "                - 'en' (str) : english sentence"
   ]
  },
  {
   "cell_type": "code",
   "execution_count": 3,
   "id": "286a748a",
   "metadata": {},
   "outputs": [
    {
     "name": "stdout",
     "output_type": "stream",
     "text": [
      "Es war ganz unmöglich, an diesem Tage einen Spaziergang zu machen.\n",
      "There was no possibility of taking a walk that day.\n"
     ]
    }
   ],
   "source": [
    "print(dataset['train'][4]['translation']['de'])\n",
    "print(dataset['train'][4]['translation']['en'])"
   ]
  },
  {
   "cell_type": "markdown",
   "id": "2f5d8091",
   "metadata": {},
   "source": [
    "## Proprocessing\n",
    "\n",
    "In order to not waste any vocabulary space and to reduce misinterpretation, I do the following:\n",
    "- Normalizing punctuation (e.g. '…' -> '...') \n",
    "- delete pairs, where at least one sentence is whitespace\n",
    "- delete pairs, where one sentence is significantly longer\n",
    "- delete pairs, where at least one sentence is too long (over 100 'words')"
   ]
  },
  {
   "cell_type": "code",
   "execution_count": 6,
   "id": "ae9196d9",
   "metadata": {},
   "outputs": [
    {
     "name": "stdout",
     "output_type": "stream",
     "text": [
      "644 pairs filtered\n",
      "preprocessed data saved as \"data\\preprocessed_data.json\"\n"
     ]
    }
   ],
   "source": [
    "from transformer.data_preprocessing import preprocess, save_data\n",
    "preprocessed_data = preprocess(dataset)\n",
    "save_data(preprocessed_data, 'preprocessed_data.json')"
   ]
  },
  {
   "cell_type": "markdown",
   "id": "53248a2b",
   "metadata": {},
   "source": [
    "## Results\n",
    "The data is now preprocessed and has the following structure\n",
    "- dataset (dictionary)\n",
    "    - id (integer)\n",
    "    - translation (dictionary)\n",
    "        - 'de' (str) : german sentence\n",
    "        - 'en' (str) : english sentence"
   ]
  }
 ],
 "metadata": {
  "kernelspec": {
   "display_name": "aiayn_env",
   "language": "python",
   "name": "python3"
  },
  "language_info": {
   "codemirror_mode": {
    "name": "ipython",
    "version": 3
   },
   "file_extension": ".py",
   "mimetype": "text/x-python",
   "name": "python",
   "nbconvert_exporter": "python",
   "pygments_lexer": "ipython3",
   "version": "3.12.11"
  }
 },
 "nbformat": 4,
 "nbformat_minor": 5
}
